{
 "cells": [
  {
   "cell_type": "markdown",
   "id": "a0574008",
   "metadata": {},
   "source": [
    "## A CNN Model For Plant Disease Detection"
   ]
  },
  {
   "cell_type": "code",
   "execution_count": 1,
   "id": "d32f2a54",
   "metadata": {},
   "outputs": [],
   "source": [
    "import tensorflow as tf\n",
    "from tensorflow.keras import layers, models\n",
    "import matplotlib.pyplot as plt\n",
    "import numpy as np\n",
    "from tensorflow.keras.preprocessing import image\n",
    "from tensorflow.keras.preprocessing.image import ImageDataGenerator,load_img"
   ]
  },
  {
   "cell_type": "markdown",
   "id": "148bc7c4",
   "metadata": {},
   "source": [
    "### Initializing the CNN as a sequennce of layers"
   ]
  },
  {
   "cell_type": "code",
   "execution_count": 32,
   "id": "def25f18",
   "metadata": {},
   "outputs": [
    {
     "name": "stdout",
     "output_type": "stream",
     "text": [
      "38\n"
     ]
    }
   ],
   "source": [
    "# Gtting number of output classes\n",
    "from glob import glob\n",
    "folders=glob('C:\\\\Users\\\\rafin\\\\Downloads\\\\PythonDataScience\\\\plant_disease\\\\New_Plant_Diseases_Dataset\\\\New_Plant_Diseases_Dataset\\\\train\\\\*')\n",
    "num_of_classes=len(folders)\n",
    "print(num_of_classes)"
   ]
  },
  {
   "cell_type": "code",
   "execution_count": 3,
   "id": "11047b1f",
   "metadata": {},
   "outputs": [],
   "source": [
    "model=models.Sequential()"
   ]
  },
  {
   "cell_type": "code",
   "execution_count": 4,
   "id": "b8090f1b",
   "metadata": {},
   "outputs": [],
   "source": [
    "model.add(layers.Conv2D(32, (3, 3), activation='relu', input_shape=(128,128,3)))\n",
    "model.add(layers.MaxPooling2D((2, 2)))\n",
    "model.add(layers.Conv2D(32, (3, 3), activation='relu'))\n",
    "model.add(layers.MaxPooling2D((2, 2)))"
   ]
  },
  {
   "cell_type": "code",
   "execution_count": 5,
   "id": "d75857cc",
   "metadata": {},
   "outputs": [],
   "source": [
    "model.add(layers.Flatten())"
   ]
  },
  {
   "cell_type": "code",
   "execution_count": 6,
   "id": "a0bdeef2",
   "metadata": {},
   "outputs": [],
   "source": [
    "model.add(layers.Dense(128, activation=\"relu\"))\n",
    "model.add(layers.Dense(num_of_classes, activation=\"softmax\"))"
   ]
  },
  {
   "cell_type": "code",
   "execution_count": 7,
   "id": "4a05e5b0",
   "metadata": {},
   "outputs": [],
   "source": [
    "model.compile(optimizer=\"adam\",loss=\"categorical_crossentropy\", metrics=['accuracy'])"
   ]
  },
  {
   "cell_type": "markdown",
   "id": "90019a0c",
   "metadata": {},
   "source": [
    "### Image preprocessing\n",
    "<p> Use the Image Data Generator to import the images from the dataset<p>\n",
    "<p>Make sure you provide the same target size as initialied for the image size<p>"
   ]
  },
  {
   "cell_type": "code",
   "execution_count": 3,
   "id": "d1151744",
   "metadata": {},
   "outputs": [],
   "source": [
    "train_datagen = ImageDataGenerator(\n",
    "        rescale=1./255,\n",
    "        shear_range=0.2,\n",
    "        zoom_range=0.2,\n",
    "        horizontal_flip=True)"
   ]
  },
  {
   "cell_type": "code",
   "execution_count": 4,
   "id": "4e99c58e",
   "metadata": {},
   "outputs": [],
   "source": [
    "test_datagen = ImageDataGenerator(rescale=1./255)"
   ]
  },
  {
   "cell_type": "code",
   "execution_count": 5,
   "id": "17327e6a",
   "metadata": {
    "scrolled": true
   },
   "outputs": [
    {
     "name": "stdout",
     "output_type": "stream",
     "text": [
      "Found 70295 images belonging to 38 classes.\n",
      "Found 17572 images belonging to 38 classes.\n"
     ]
    }
   ],
   "source": [
    "training_set = train_datagen.flow_from_directory(\n",
    "        'C:\\\\Users\\\\rafin\\\\Downloads\\\\PythonDataScience\\\\plant_disease\\\\New_Plant_Diseases_Dataset\\\\New_Plant_Diseases_Dataset\\\\train',\n",
    "        target_size=(128,128),\n",
    "        batch_size=64,\n",
    "        class_mode='categorical')\n",
    "\n",
    "testing_set = test_datagen.flow_from_directory(\n",
    "        'C:\\\\Users\\\\rafin\\\\Downloads\\\\PythonDataScience\\\\plant_disease\\\\New_Plant_Diseases_Dataset\\\\New_Plant_Diseases_Dataset\\\\valid',\n",
    "        target_size=(128,128),\n",
    "        batch_size=64,\n",
    "        class_mode='categorical')"
   ]
  },
  {
   "cell_type": "code",
   "execution_count": 34,
   "id": "e0f842a1",
   "metadata": {},
   "outputs": [],
   "source": [
    "class_names =  folders\n",
    "class_names = sorted(class_names)\n",
    "name_id_map=dict(zip(range(len(class_names)),class_names, ))"
   ]
  },
  {
   "cell_type": "code",
   "execution_count": 35,
   "id": "c050cd6c",
   "metadata": {
    "scrolled": true
   },
   "outputs": [
    {
     "name": "stdout",
     "output_type": "stream",
     "text": [
      "{0: 'C:\\\\Users\\\\rafin\\\\Downloads\\\\PythonDataScience\\\\plant_disease\\\\New_Plant_Diseases_Dataset\\\\New_Plant_Diseases_Dataset\\\\train\\\\Apple___Apple_scab', 1: 'C:\\\\Users\\\\rafin\\\\Downloads\\\\PythonDataScience\\\\plant_disease\\\\New_Plant_Diseases_Dataset\\\\New_Plant_Diseases_Dataset\\\\train\\\\Apple___Black_rot', 2: 'C:\\\\Users\\\\rafin\\\\Downloads\\\\PythonDataScience\\\\plant_disease\\\\New_Plant_Diseases_Dataset\\\\New_Plant_Diseases_Dataset\\\\train\\\\Apple___Cedar_apple_rust', 3: 'C:\\\\Users\\\\rafin\\\\Downloads\\\\PythonDataScience\\\\plant_disease\\\\New_Plant_Diseases_Dataset\\\\New_Plant_Diseases_Dataset\\\\train\\\\Apple___healthy', 4: 'C:\\\\Users\\\\rafin\\\\Downloads\\\\PythonDataScience\\\\plant_disease\\\\New_Plant_Diseases_Dataset\\\\New_Plant_Diseases_Dataset\\\\train\\\\Blueberry___healthy', 5: 'C:\\\\Users\\\\rafin\\\\Downloads\\\\PythonDataScience\\\\plant_disease\\\\New_Plant_Diseases_Dataset\\\\New_Plant_Diseases_Dataset\\\\train\\\\Cherry_(including_sour)___Powdery_mildew', 6: 'C:\\\\Users\\\\rafin\\\\Downloads\\\\PythonDataScience\\\\plant_disease\\\\New_Plant_Diseases_Dataset\\\\New_Plant_Diseases_Dataset\\\\train\\\\Cherry_(including_sour)___healthy', 7: 'C:\\\\Users\\\\rafin\\\\Downloads\\\\PythonDataScience\\\\plant_disease\\\\New_Plant_Diseases_Dataset\\\\New_Plant_Diseases_Dataset\\\\train\\\\Corn_(maize)___Cercospora_leaf_spot Gray_leaf_spot', 8: 'C:\\\\Users\\\\rafin\\\\Downloads\\\\PythonDataScience\\\\plant_disease\\\\New_Plant_Diseases_Dataset\\\\New_Plant_Diseases_Dataset\\\\train\\\\Corn_(maize)___Common_rust_', 9: 'C:\\\\Users\\\\rafin\\\\Downloads\\\\PythonDataScience\\\\plant_disease\\\\New_Plant_Diseases_Dataset\\\\New_Plant_Diseases_Dataset\\\\train\\\\Corn_(maize)___Northern_Leaf_Blight', 10: 'C:\\\\Users\\\\rafin\\\\Downloads\\\\PythonDataScience\\\\plant_disease\\\\New_Plant_Diseases_Dataset\\\\New_Plant_Diseases_Dataset\\\\train\\\\Corn_(maize)___healthy', 11: 'C:\\\\Users\\\\rafin\\\\Downloads\\\\PythonDataScience\\\\plant_disease\\\\New_Plant_Diseases_Dataset\\\\New_Plant_Diseases_Dataset\\\\train\\\\Grape___Black_rot', 12: 'C:\\\\Users\\\\rafin\\\\Downloads\\\\PythonDataScience\\\\plant_disease\\\\New_Plant_Diseases_Dataset\\\\New_Plant_Diseases_Dataset\\\\train\\\\Grape___Esca_(Black_Measles)', 13: 'C:\\\\Users\\\\rafin\\\\Downloads\\\\PythonDataScience\\\\plant_disease\\\\New_Plant_Diseases_Dataset\\\\New_Plant_Diseases_Dataset\\\\train\\\\Grape___Leaf_blight_(Isariopsis_Leaf_Spot)', 14: 'C:\\\\Users\\\\rafin\\\\Downloads\\\\PythonDataScience\\\\plant_disease\\\\New_Plant_Diseases_Dataset\\\\New_Plant_Diseases_Dataset\\\\train\\\\Grape___healthy', 15: 'C:\\\\Users\\\\rafin\\\\Downloads\\\\PythonDataScience\\\\plant_disease\\\\New_Plant_Diseases_Dataset\\\\New_Plant_Diseases_Dataset\\\\train\\\\Orange___Haunglongbing_(Citrus_greening)', 16: 'C:\\\\Users\\\\rafin\\\\Downloads\\\\PythonDataScience\\\\plant_disease\\\\New_Plant_Diseases_Dataset\\\\New_Plant_Diseases_Dataset\\\\train\\\\Peach___Bacterial_spot', 17: 'C:\\\\Users\\\\rafin\\\\Downloads\\\\PythonDataScience\\\\plant_disease\\\\New_Plant_Diseases_Dataset\\\\New_Plant_Diseases_Dataset\\\\train\\\\Peach___healthy', 18: 'C:\\\\Users\\\\rafin\\\\Downloads\\\\PythonDataScience\\\\plant_disease\\\\New_Plant_Diseases_Dataset\\\\New_Plant_Diseases_Dataset\\\\train\\\\Pepper,_bell___Bacterial_spot', 19: 'C:\\\\Users\\\\rafin\\\\Downloads\\\\PythonDataScience\\\\plant_disease\\\\New_Plant_Diseases_Dataset\\\\New_Plant_Diseases_Dataset\\\\train\\\\Pepper,_bell___healthy', 20: 'C:\\\\Users\\\\rafin\\\\Downloads\\\\PythonDataScience\\\\plant_disease\\\\New_Plant_Diseases_Dataset\\\\New_Plant_Diseases_Dataset\\\\train\\\\Potato___Early_blight', 21: 'C:\\\\Users\\\\rafin\\\\Downloads\\\\PythonDataScience\\\\plant_disease\\\\New_Plant_Diseases_Dataset\\\\New_Plant_Diseases_Dataset\\\\train\\\\Potato___Late_blight', 22: 'C:\\\\Users\\\\rafin\\\\Downloads\\\\PythonDataScience\\\\plant_disease\\\\New_Plant_Diseases_Dataset\\\\New_Plant_Diseases_Dataset\\\\train\\\\Potato___healthy', 23: 'C:\\\\Users\\\\rafin\\\\Downloads\\\\PythonDataScience\\\\plant_disease\\\\New_Plant_Diseases_Dataset\\\\New_Plant_Diseases_Dataset\\\\train\\\\Raspberry___healthy', 24: 'C:\\\\Users\\\\rafin\\\\Downloads\\\\PythonDataScience\\\\plant_disease\\\\New_Plant_Diseases_Dataset\\\\New_Plant_Diseases_Dataset\\\\train\\\\Soybean___healthy', 25: 'C:\\\\Users\\\\rafin\\\\Downloads\\\\PythonDataScience\\\\plant_disease\\\\New_Plant_Diseases_Dataset\\\\New_Plant_Diseases_Dataset\\\\train\\\\Squash___Powdery_mildew', 26: 'C:\\\\Users\\\\rafin\\\\Downloads\\\\PythonDataScience\\\\plant_disease\\\\New_Plant_Diseases_Dataset\\\\New_Plant_Diseases_Dataset\\\\train\\\\Strawberry___Leaf_scorch', 27: 'C:\\\\Users\\\\rafin\\\\Downloads\\\\PythonDataScience\\\\plant_disease\\\\New_Plant_Diseases_Dataset\\\\New_Plant_Diseases_Dataset\\\\train\\\\Strawberry___healthy', 28: 'C:\\\\Users\\\\rafin\\\\Downloads\\\\PythonDataScience\\\\plant_disease\\\\New_Plant_Diseases_Dataset\\\\New_Plant_Diseases_Dataset\\\\train\\\\Tomato___Bacterial_spot', 29: 'C:\\\\Users\\\\rafin\\\\Downloads\\\\PythonDataScience\\\\plant_disease\\\\New_Plant_Diseases_Dataset\\\\New_Plant_Diseases_Dataset\\\\train\\\\Tomato___Early_blight', 30: 'C:\\\\Users\\\\rafin\\\\Downloads\\\\PythonDataScience\\\\plant_disease\\\\New_Plant_Diseases_Dataset\\\\New_Plant_Diseases_Dataset\\\\train\\\\Tomato___Late_blight', 31: 'C:\\\\Users\\\\rafin\\\\Downloads\\\\PythonDataScience\\\\plant_disease\\\\New_Plant_Diseases_Dataset\\\\New_Plant_Diseases_Dataset\\\\train\\\\Tomato___Leaf_Mold', 32: 'C:\\\\Users\\\\rafin\\\\Downloads\\\\PythonDataScience\\\\plant_disease\\\\New_Plant_Diseases_Dataset\\\\New_Plant_Diseases_Dataset\\\\train\\\\Tomato___Septoria_leaf_spot', 33: 'C:\\\\Users\\\\rafin\\\\Downloads\\\\PythonDataScience\\\\plant_disease\\\\New_Plant_Diseases_Dataset\\\\New_Plant_Diseases_Dataset\\\\train\\\\Tomato___Spider_mites Two-spotted_spider_mite', 34: 'C:\\\\Users\\\\rafin\\\\Downloads\\\\PythonDataScience\\\\plant_disease\\\\New_Plant_Diseases_Dataset\\\\New_Plant_Diseases_Dataset\\\\train\\\\Tomato___Target_Spot', 35: 'C:\\\\Users\\\\rafin\\\\Downloads\\\\PythonDataScience\\\\plant_disease\\\\New_Plant_Diseases_Dataset\\\\New_Plant_Diseases_Dataset\\\\train\\\\Tomato___Tomato_Yellow_Leaf_Curl_Virus', 36: 'C:\\\\Users\\\\rafin\\\\Downloads\\\\PythonDataScience\\\\plant_disease\\\\New_Plant_Diseases_Dataset\\\\New_Plant_Diseases_Dataset\\\\train\\\\Tomato___Tomato_mosaic_virus', 37: 'C:\\\\Users\\\\rafin\\\\Downloads\\\\PythonDataScience\\\\plant_disease\\\\New_Plant_Diseases_Dataset\\\\New_Plant_Diseases_Dataset\\\\train\\\\Tomato___healthy'}\n"
     ]
    }
   ],
   "source": [
    "print(name_id_map)"
   ]
  },
  {
   "cell_type": "code",
   "execution_count": 17,
   "id": "350b5374",
   "metadata": {
    "scrolled": true
   },
   "outputs": [],
   "source": [
    "from glob import glob\n",
    "class_names = glob('*') # Reads all the folders in which images are present\n",
    "class_names = sorted(class_names) # Sorting them\n",
    "name_id_map = dict(zip(class_names, range(len(class_names))))"
   ]
  },
  {
   "cell_type": "code",
   "execution_count": 18,
   "id": "65d021b6",
   "metadata": {},
   "outputs": [
    {
     "data": {
      "text/plain": [
       "{'New_Plant_Diseases_Dataset': 0,\n",
       " 'Plant_disease_test.ipynb': 1,\n",
       " 'plant_disease_CNN - Copy.ipynb': 2,\n",
       " 'plant_disease_CNN.ipynb': 3,\n",
       " 'plant_disease_CNN_model.h5': 4,\n",
       " 'test': 5}"
      ]
     },
     "execution_count": 18,
     "metadata": {},
     "output_type": "execute_result"
    }
   ],
   "source": [
    "name_id_map"
   ]
  },
  {
   "cell_type": "code",
   "execution_count": null,
   "id": "fe0ac154",
   "metadata": {},
   "outputs": [],
   "source": []
  },
  {
   "cell_type": "code",
   "execution_count": null,
   "id": "f24419c1",
   "metadata": {},
   "outputs": [],
   "source": []
  },
  {
   "cell_type": "markdown",
   "id": "d313f223",
   "metadata": {},
   "source": [
    "### Fitting the model"
   ]
  },
  {
   "cell_type": "code",
   "execution_count": 11,
   "id": "49d3e72a",
   "metadata": {},
   "outputs": [],
   "source": [
    "#Early stopping to prevent overfitting \n",
    "early_stopping=tf.keras.callbacks.EarlyStopping(patience=3)"
   ]
  },
  {
   "cell_type": "code",
   "execution_count": 12,
   "id": "9e0fe10c",
   "metadata": {},
   "outputs": [
    {
     "name": "stdout",
     "output_type": "stream",
     "text": [
      "Epoch 1/25\n",
      "1099/1099 - 4337s - loss: 1.2269 - accuracy: 0.6377 - val_loss: 0.7897 - val_accuracy: 0.7600\n",
      "Epoch 2/25\n",
      "1099/1099 - 2891s - loss: 0.5494 - accuracy: 0.8264 - val_loss: 0.7947 - val_accuracy: 0.7686\n",
      "Epoch 3/25\n",
      "1099/1099 - 3051s - loss: 0.3782 - accuracy: 0.8778 - val_loss: 0.4809 - val_accuracy: 0.8498\n",
      "Epoch 4/25\n",
      "1099/1099 - 3068s - loss: 0.3166 - accuracy: 0.8984 - val_loss: 0.4130 - val_accuracy: 0.8708\n",
      "Epoch 5/25\n",
      "1099/1099 - 3204s - loss: 0.2639 - accuracy: 0.9138 - val_loss: 0.4033 - val_accuracy: 0.8771\n",
      "Epoch 6/25\n",
      "1099/1099 - 3015s - loss: 0.2333 - accuracy: 0.9234 - val_loss: 0.2973 - val_accuracy: 0.9074\n",
      "Epoch 7/25\n",
      "1099/1099 - 2954s - loss: 0.2161 - accuracy: 0.9291 - val_loss: 0.3066 - val_accuracy: 0.9051\n",
      "Epoch 8/25\n",
      "1099/1099 - 2992s - loss: 0.1991 - accuracy: 0.9349 - val_loss: 0.4169 - val_accuracy: 0.8775\n",
      "Epoch 9/25\n",
      "1099/1099 - 3090s - loss: 0.1750 - accuracy: 0.9424 - val_loss: 0.3736 - val_accuracy: 0.8940\n"
     ]
    },
    {
     "data": {
      "text/plain": [
       "<keras.callbacks.History at 0x235a5a24e80>"
      ]
     },
     "execution_count": 12,
     "metadata": {},
     "output_type": "execute_result"
    }
   ],
   "source": [
    "model.fit(\n",
    "        training_set,\n",
    "        epochs=25,\n",
    "        validation_data=testing_set, verbose=2, callbacks=[early_stopping])"
   ]
  },
  {
   "cell_type": "markdown",
   "id": "742ee898",
   "metadata": {},
   "source": [
    "### Saving the model"
   ]
  },
  {
   "cell_type": "code",
   "execution_count": 13,
   "id": "7c3bc6a5",
   "metadata": {},
   "outputs": [],
   "source": [
    "from tensorflow.keras.models import load_model"
   ]
  },
  {
   "cell_type": "code",
   "execution_count": 14,
   "id": "7b79f4af",
   "metadata": {},
   "outputs": [],
   "source": [
    "model.save('plant_disease_CNN_model.h5')"
   ]
  },
  {
   "cell_type": "markdown",
   "id": "3b7cc18f",
   "metadata": {},
   "source": [
    "### Model Performance"
   ]
  },
  {
   "cell_type": "code",
   "execution_count": 25,
   "id": "54ab7080",
   "metadata": {
    "scrolled": true
   },
   "outputs": [
    {
     "data": {
      "image/png": "[encoded data removed]",
      "text/plain": [
       "<Figure size 432x288 with 1 Axes>"
      ]
     },
     "metadata": {
      "needs_background": "light"
     },
     "output_type": "display_data"
    },
    {
     "data": {
      "image/png": "[encoded data removed]",
      "text/plain": [
       "<Figure size 432x288 with 1 Axes>"
      ]
     },
     "metadata": {
      "needs_background": "light"
     },
     "output_type": "display_data"
    },
    {
     "data": {
      "text/plain": [
       "<Figure size 432x288 with 0 Axes>"
      ]
     },
     "metadata": {},
     "output_type": "display_data"
    }
   ],
   "source": [
    "# plot the loss\n",
    "plt.plot(model.history.history['loss'], label='train loss')\n",
    "plt.plot(model.history.history['val_loss'], label='val loss')\n",
    "plt.legend()\n",
    "plt.show()\n",
    "plt.savefig('LossVal_loss')\n",
    "\n",
    "# plot the accuracy\n",
    "plt.plot(model.history.history['accuracy'], label='train acc')\n",
    "plt.plot(model.history.history['val_accuracy'], label='val acc')\n",
    "plt.legend()\n",
    "plt.show()\n",
    "plt.savefig('AccVal_acc')"
   ]
  },
  {
   "cell_type": "code",
   "execution_count": null,
   "id": "f6c9c3a0",
   "metadata": {},
   "outputs": [],
   "source": []
  }
 ],
 "metadata": {
  "kernelspec": {
   "display_name": "Python 3 (ipykernel)",
   "language": "python",
   "name": "python3"
  },
  "language_info": {
   "codemirror_mode": {
    "name": "ipython",
    "version": 3
   },
   "file_extension": ".py",
   "mimetype": "text/x-python",
   "name": "python",
   "nbconvert_exporter": "python",
   "pygments_lexer": "ipython3",
   "version": "3.8.12"
  }
 },
 "nbformat": 4,
 "nbformat_minor": 5
}
